{
 "cells": [
  {
   "cell_type": "code",
   "execution_count": 2,
   "metadata": {
    "collapsed": true,
    "pycharm": {
     "name": "#%%\n"
    }
   },
   "outputs": [
    {
     "name": "stdout",
     "output_type": "stream",
     "text": [
      "[1 4 9 8 3 8]\n",
      "[[2 0 1 7]\n",
      " [4 5 5 8]\n",
      " [3 3 3 0]]\n"
     ]
    }
   ],
   "source": [
    "import numpy as np\n",
    "\n",
    "x1=np.random.randint(10,size=6)\n",
    "print(x1)\n"
   ]
  },
  {
   "cell_type": "code",
   "execution_count": 3,
   "outputs": [
    {
     "name": "stdout",
     "output_type": "stream",
     "text": [
      "[[9 9 3 1]\n",
      " [9 0 0 4]\n",
      " [1 9 2 2]]\n"
     ]
    }
   ],
   "source": [
    "x2=np.random.randint(10,size=(3,4))\n",
    "print(x2)"
   ],
   "metadata": {
    "collapsed": false,
    "pycharm": {
     "name": "#%%\n"
    }
   }
  },
  {
   "cell_type": "code",
   "execution_count": 6,
   "outputs": [
    {
     "name": "stdout",
     "output_type": "stream",
     "text": [
      "[[[ 0.59051181 -0.88697589 -0.14419974 -0.56299908  0.34905304]\n",
      "  [ 0.08186111 -0.48986794 -0.29215309 -0.43077108 -0.29751567]\n",
      "  [ 1.23397168  1.15451378  0.94628973 -0.86606515  0.61655874]\n",
      "  [-1.62710168 -0.57067443  0.04405495  0.26093862 -0.46613441]]\n",
      "\n",
      " [[-0.41667877  0.52936791  0.03109313 -1.10752507  2.20633374]\n",
      "  [-1.67732011 -0.64926868 -0.30509738  1.32818022 -0.21113351]\n",
      "  [-1.22386571  0.96026257 -0.00320779  0.03587499 -1.0615224 ]\n",
      "  [ 1.55959671 -0.42004     0.6798915   2.614301   -1.53481337]]\n",
      "\n",
      " [[ 0.54820195 -0.43586157  0.33684886  0.62654498 -1.9297471 ]\n",
      "  [ 1.41788215 -0.78762988 -1.23631325  0.07376466 -1.10898728]\n",
      "  [ 0.34177341  0.74014035  0.18157024  0.07923013  1.98829993]\n",
      "  [ 0.35555384  0.31734489  0.2627705   0.83675654  1.019709  ]]]\n",
      "******ndim 属性*******\n",
      "ndim: 1 2 3\n",
      "******shape 属性******\n",
      "shape: (6,) (3, 4) (3, 4, 5)\n",
      "******dtype 属性******\n",
      "dtype: int32 int32 float64\n",
      "******size 属性*******\n",
      "size: 6 12 60\n",
      "****itemsize 属性*****\n",
      "itemsize: 4 4 8\n"
     ]
    }
   ],
   "source": [
    "x3=np.random.randn(3,4,5)\n",
    "print(x3)\n",
    "print('ndim 属性'.center(20,'*'))\n",
    "print('ndim:',x1.ndim,x2.ndim,x3.ndim)\n",
    "print('shape 属性'.center(20,'*'))\n",
    "print('shape:',x1.shape,x2.shape,x3.shape)\n",
    "print('dtype 属性'.center(20,'*'))\n",
    "print('dtype:',x1.dtype,x2.dtype,x3.dtype)\n",
    "print('size 属性'.center(20,'*'))\n",
    "print('size:',x1.size,x2.size,x3.size)\n",
    "print('itemsize 属性'.center(20,'*'))\n",
    "#一个字节是 8 位\n",
    "print('itemsize:',x1.itemsize,x2.itemsize,x3.itemsize)"
   ],
   "metadata": {
    "collapsed": false,
    "pycharm": {
     "name": "#%%\n"
    }
   }
  },
  {
   "cell_type": "code",
   "execution_count": 9,
   "outputs": [
    {
     "name": "stdout",
     "output_type": "stream",
     "text": [
      "[0. 0. 0. 0. 0.]\n"
     ]
    }
   ],
   "source": [
    "a = np.zeros(5, dtype = float, order = 'C')\n",
    "print(a)"
   ],
   "metadata": {
    "collapsed": false,
    "pycharm": {
     "name": "#%%\n"
    }
   }
  },
  {
   "cell_type": "code",
   "execution_count": 23,
   "outputs": [
    {
     "name": "stdout",
     "output_type": "stream",
     "text": [
      "[[0. 0.]\n",
      " [0. 0.]\n",
      " [0. 0.]]\n"
     ]
    }
   ],
   "source": [
    "# 有\"C\"和\"F\"两个选项,分别代表，行优先和列优先，在计算机内存中的存储元 素的顺序。\n",
    "b = np.zeros([3,2], dtype = float, order = 'F')\n",
    "print(b)"
   ],
   "metadata": {
    "collapsed": false,
    "pycharm": {
     "name": "#%%\n"
    }
   }
  }
 ],
 "metadata": {
  "kernelspec": {
   "display_name": "Python 3",
   "language": "python",
   "name": "python3"
  },
  "language_info": {
   "codemirror_mode": {
    "name": "ipython",
    "version": 2
   },
   "file_extension": ".py",
   "mimetype": "text/x-python",
   "name": "python",
   "nbconvert_exporter": "python",
   "pygments_lexer": "ipython2",
   "version": "2.7.6"
  }
 },
 "nbformat": 4,
 "nbformat_minor": 0
}