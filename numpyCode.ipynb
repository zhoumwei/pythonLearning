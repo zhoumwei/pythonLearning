{
 "cells": [
  {
   "cell_type": "code",
   "execution_count": 2,
   "metadata": {
    "collapsed": true,
    "pycharm": {
     "name": "#%%\n"
    }
   },
   "outputs": [
    {
     "name": "stdout",
     "output_type": "stream",
     "text": [
      "[3 2 0 4 2 0 4 4 1 3]\n"
     ]
    }
   ],
   "source": [
    "import numpy as np\n",
    "\n",
    "# numpy.random.randint()\n",
    "\n",
    "x=np.random.randint(5,size=10)\n",
    "print(x)"
   ]
  },
  {
   "cell_type": "code",
   "execution_count": 3,
   "outputs": [
    {
     "name": "stdout",
     "output_type": "stream",
     "text": [
      "[7 8 5 7 5 6 9 9 6 6]\n"
     ]
    }
   ],
   "source": [
    "#生成[low,high)范围的随机整数\n",
    "y=np.random.randint(5,10,size=10)\n",
    "print(y)"
   ],
   "metadata": {
    "collapsed": false,
    "pycharm": {
     "name": "#%%\n"
    }
   }
  },
  {
   "cell_type": "code",
   "execution_count": 4,
   "outputs": [
    {
     "name": "stdout",
     "output_type": "stream",
     "text": [
      "[[9 5 9 5]\n",
      " [8 7 9 5]]\n"
     ]
    }
   ],
   "source": [
    "#生成[low,high)范围的 2*4 的随机整数\n",
    "z=np.random.randint(5,10,size=(2,4))\n",
    "print(z)"
   ],
   "metadata": {
    "collapsed": false,
    "pycharm": {
     "name": "#%%\n"
    }
   }
  },
  {
   "cell_type": "code",
   "execution_count": 28,
   "outputs": [
    {
     "name": "stdout",
     "output_type": "stream",
     "text": [
      "0.9559373138644487\n",
      "[[-0.29888735 -0.15064431  1.67482279  0.51677502]\n",
      " [-1.01364875 -0.18129468 -0.24130322  1.1864717 ]]\n",
      "[[[-1.77780675 -1.47351148 -1.36324218  0.82254564]\n",
      "  [-0.95397964 -0.27271772  0.33947301 -0.81283155]\n",
      "  [ 0.12434248  0.64186706  0.92191209  0.78878495]]\n",
      "\n",
      " [[ 0.24944417 -0.34125132  0.58724157  0.29457047]\n",
      "  [ 1.0164185   1.16124022  0.52531038 -0.65868662]\n",
      "  [ 0.84133099 -0.84359184 -0.77327327  1.02874048]]]\n"
     ]
    }
   ],
   "source": [
    "# randn 函数返回一个或一组样本，具有标准正态分布\n",
    "x=np.random.randn()\n",
    "print(x)\n",
    "y=np.random.randn(2,4)\n",
    "print(y)\n",
    "z=np.random.randn(2,3,4)\n",
    "print(z)"
   ],
   "metadata": {
    "collapsed": false,
    "pycharm": {
     "name": "#%%\n"
    }
   }
  },
  {
   "cell_type": "code",
   "execution_count": 34,
   "outputs": [
    {
     "name": "stdout",
     "output_type": "stream",
     "text": [
      "[[[-0.69322943  2.79459347  0.8896001 ]\n",
      "  [-0.80429268 -5.0545895   2.2593509 ]]\n",
      "\n",
      " [[ 6.61976472  1.46264291 -0.35777926]\n",
      "  [ 6.24969776  0.63739791  2.64296104]]]\n"
     ]
    }
   ],
   "source": [
    "# np.random.normal()的使用\n",
    "#正太分布（高斯分布）loc：期望 scale：方差 size 形状\n",
    "print(np.random.normal(loc=3,scale=4,size=(2,2,3)))"
   ],
   "metadata": {
    "collapsed": false,
    "pycharm": {
     "name": "#%%\n"
    }
   }
  }
 ],
 "metadata": {
  "kernelspec": {
   "display_name": "Python 3",
   "language": "python",
   "name": "python3"
  },
  "language_info": {
   "codemirror_mode": {
    "name": "ipython",
    "version": 2
   },
   "file_extension": ".py",
   "mimetype": "text/x-python",
   "name": "python",
   "nbconvert_exporter": "python",
   "pygments_lexer": "ipython2",
   "version": "2.7.6"
  }
 },
 "nbformat": 4,
 "nbformat_minor": 0
}